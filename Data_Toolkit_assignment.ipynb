{
  "nbformat": 4,
  "nbformat_minor": 0,
  "metadata": {
    "colab": {
      "provenance": []
    },
    "kernelspec": {
      "name": "python3",
      "display_name": "Python 3"
    },
    "language_info": {
      "name": "python"
    }
  },
  "cells": [
    {
      "cell_type": "markdown",
      "source": [
        "1. What is NumPy, and why is it widely used in Python?\n",
        "\n",
        "NumPy (Numerical Python) is a powerful library for numerical computations. It's widely used for its support of large multi-dimensional arrays and matrices, and for its collection of mathematical functions that operate efficiently on these arrays.\n",
        "\n",
        "\n",
        "---\n",
        "\n",
        "2. How does broadcasting work in NumPy?\n",
        "\n",
        "Broadcasting allows NumPy to perform operations on arrays of different shapes. It automatically expands the smaller array to match the shape of the larger one during operations like addition or multiplication.\n",
        "\n",
        "\n",
        "---\n",
        "\n",
        "3. What is a Pandas DataFrame?\n",
        "\n",
        "A DataFrame is a 2D labeled data structure in Pandas with columns of potentially different types, similar to a table in SQL or Excel.\n",
        "\n",
        "\n",
        "---\n",
        "\n",
        "4. Explain the use of the groupby() method in Pandas\n",
        "\n",
        "The groupby() method splits data into groups based on some criteria, then applies a function (like sum, mean) to each group independently and combines the results.\n",
        "\n",
        "5. Why is Seaborn preferred for statistical visualizations?\n",
        "\n",
        "Seaborn is built on top of Matplotlib and provides a high-level interface for drawing attractive and informative statistical graphics with less code.\n",
        "\n",
        "\n",
        "---\n",
        "\n",
        "6. What are the differences between NumPy arrays and Python lists?\n",
        "\n",
        "NumPy arrays are faster and more memory efficient.\n",
        "\n",
        "They support vectorized operations, unlike lists.\n",
        "\n",
        "NumPy arrays are homogeneous (same data type), lists are heterogeneous.\n",
        "\n",
        "\n",
        "\n",
        "---\n",
        "\n",
        "7. What is a heatmap, and when should it be used?\n",
        "\n",
        "A heatmap is a graphical representation of data using color to represent values. It's useful for visualizing correlation matrices and data density.\n",
        "\n",
        "\n",
        "---\n",
        "\n",
        "8. What does the term “vectorized operation” mean in NumPy?\n",
        "\n",
        "A vectorized operation allows array operations without explicit loops, improving performance by applying operations to entire arrays at once.\n",
        "\n",
        "\n",
        "---\n",
        "\n",
        "9. How does Matplotlib differ from Plotly?\n",
        "\n",
        "Matplotlib is static and better for print/publication.\n",
        "\n",
        "Plotly offers interactive plots ideal for web-based dashboards.\n",
        "\n",
        "\n",
        "\n",
        "---\n",
        "\n",
        "10. What is the significance of hierarchical indexing in Pandas?\n",
        "\n",
        "Hierarchical indexing allows multi-level (nested) indexing of data, enabling advanced data manipulation and subsetting in complex datasets.\n",
        "\n",
        "\n",
        "---\n",
        "\n",
        "11. What is the role of Seaborn’s pairplot() function?\n",
        "\n",
        "pairplot() creates a matrix of scatter plots to visualize pairwise relationships in a dataset, often used in exploratory data analysis.\n",
        "12. What is the purpose of the describe() function in Pandas?\n",
        "\n",
        "The describe() function provides summary statistics of a DataFrame, including count, mean, std deviation, min, and max values.\n",
        "\n",
        "\n",
        "---\n",
        "\n",
        "13. Why is handling missing data important in Pandas?\n",
        "\n",
        "Missing data can bias or distort results. Pandas provides functions like fillna() and dropna() to clean data before analysis.\n",
        "\n",
        "\n",
        "---\n",
        "\n",
        "14. What are the benefits of using Plotly for data visualization?\n",
        "\n",
        "Plotly offers interactivity, beautiful design, support for 3D plotting, and is well-suited for web applications and dashboards.\n",
        "\n",
        "\n",
        "---\n",
        "\n",
        "15. How does NumPy handle multidimensional arrays?\n",
        "\n",
        "NumPy supports ndarrays, which are n-dimensional arrays. It provides functions for reshaping, slicing, and mathematical operations across dimensions.\n",
        "\n",
        "16. What is the role of Bokeh in data visualization?\n",
        "\n",
        "Bokeh is used for creating interactive and real-time plots for web applications. It allows high-performance streaming and dynamic visualizations.\n",
        "\n",
        "\n",
        "---\n",
        "\n",
        "17. Explain the difference between apply() and map() in Pandas\n",
        "\n",
        "map() is used for element-wise transformations on a Series.\n",
        "\n",
        "apply() is more flexible and can be used on DataFrames as well, applying functions along an axis.\n",
        "\n",
        "\n",
        "\n",
        "---\n",
        "\n",
        "18. What are some advanced features of NumPy?\n",
        "\n",
        "Broadcasting\n",
        "\n",
        "Memory mapping\n",
        "\n",
        "Masked arrays\n",
        "\n",
        "Structured arrays\n",
        "\n",
        "Vectorized computations\n",
        "\n",
        "19. How does Pandas simplify time series analysis?\n",
        "\n",
        "Pandas has robust support for date/time indexing, resampling, shifting, and window functions, making time series manipulation and analysis easy.\n",
        "\n",
        "\n",
        "---\n",
        "\n",
        "20. What is the role of a pivot table in Pandas?\n",
        "\n",
        "A pivot table summarizes data by aggregating it based on two dimensions (index and columns), making it easier to analyze patterns.\n",
        "\n",
        "\n",
        "---\n",
        "\n",
        "21. Why is NumPy’s array slicing faster than Python’s list slicing?\n",
        "\n",
        "NumPy uses contiguous memory blocks and optimized C backend, enabling faster slicing without creating copies like Python lists.\n",
        "\n",
        "\n",
        "---\n",
        "\n",
        "22. What are some common use cases for Seaborn?\n",
        "\n",
        "Visualizing distributions (histplot, kdeplot)\n",
        "\n",
        "Pairwise relationships (pairplot)\n",
        "Categorical data (boxplot, violinplot)\n",
        "\n",
        "Heatmaps and correlation matrices\n",
        "\n",
        "\n",
        "1. How do you create a 2D NumPy array and calculate the sum of each row\n",
        "\n",
        "import numpy as np\n",
        "\n"
      ],
      "metadata": {
        "id": "CAvk0hbBBcEx"
      }
    },
    {
      "cell_type": "code",
      "execution_count": null,
      "metadata": {
        "id": "4yvZ0q0fA6q9"
      },
      "outputs": [],
      "source": [
        "arr = np.array([[1, 2, 3], [4, 5, 6]])\n",
        "row_sums = np.sum(arr, axis=1)\n",
        "print(row_sums)\n"
      ]
    },
    {
      "cell_type": "markdown",
      "source": [
        "2. Write a Pandas script to find the mean of a specific column in a DataFrame\n",
        "\n",
        "import pandas as pd\n",
        "\n"
      ],
      "metadata": {
        "id": "npex7HhhC5T_"
      }
    },
    {
      "cell_type": "code",
      "source": [
        "df = pd.DataFrame({'A': [10, 20, 30], 'B': [5, 15, 25]})\n",
        "mean_B = df['B'].mean()\n",
        "print(mean_B)\n",
        "\n"
      ],
      "metadata": {
        "id": "pz1eogP3DCXu"
      },
      "execution_count": null,
      "outputs": []
    },
    {
      "cell_type": "markdown",
      "source": [
        "3. Create a scatter plot using Matplotlib\n",
        "\n",
        "import matplotlib.pyplot as plt\n"
      ],
      "metadata": {
        "id": "d96dhzL0DRX4"
      }
    },
    {
      "cell_type": "code",
      "source": [
        "x = [1, 2, 3, 4]\n",
        "y = [10, 20, 25, 30]\n",
        "\n",
        "plt.scatter(x, y)\n",
        "plt.title('Scatter Plot')\n",
        "plt.xlabel('X Axis')\n",
        "plt.ylabel('Y Axis')\n",
        "plt.show()\n",
        "\n"
      ],
      "metadata": {
        "id": "drekOdAHDhQh"
      },
      "execution_count": null,
      "outputs": []
    },
    {
      "cell_type": "markdown",
      "source": [
        "4. How do you calculate the correlation matrix using Seaborn and visualize it with a heatmap\n",
        "\n",
        "import seaborn as sns\n",
        "import pandas as pd\n",
        "import matplotlib.pyplot as plt\n"
      ],
      "metadata": {
        "id": "5aciCDSpDox6"
      }
    },
    {
      "cell_type": "code",
      "source": [
        "data = pd.DataFrame({\n",
        "    'A': [1, 2, 3],\n",
        "    'B': [4, 5, 6],\n",
        "    'C': [7, 8, 9]\n",
        "})\n",
        "\n",
        "corr = data.corr()\n",
        "sns.heatmap(corr, annot=True, cmap='coolwarm')\n",
        "plt.show()\n"
      ],
      "metadata": {
        "id": "AUfoq38sDunS"
      },
      "execution_count": null,
      "outputs": []
    },
    {
      "cell_type": "markdown",
      "source": [
        "5. Generate a bar plot using Plotly\n",
        "\n",
        "import plotly.express as px\n",
        "import pandas as pd\n"
      ],
      "metadata": {
        "id": "LNDACqT9D1ZX"
      }
    },
    {
      "cell_type": "code",
      "source": [
        "df = pd.DataFrame({\n",
        "    'Category': ['A', 'B', 'C'],\n",
        "    'Values': [10, 20, 15]\n",
        "})\n",
        "\n",
        "fig = px.bar(df, x='Category', y='Values', title='Bar Plot')\n",
        "fig.show()\n"
      ],
      "metadata": {
        "id": "GXVvN37pD6qh"
      },
      "execution_count": null,
      "outputs": []
    },
    {
      "cell_type": "markdown",
      "source": [
        "6. Create a DataFrame and add a new column based on an existing column\n",
        "\n",
        "import pandas as pd\n"
      ],
      "metadata": {
        "id": "cGDNDOxFEDdU"
      }
    },
    {
      "cell_type": "code",
      "source": [
        "df = pd.DataFrame({'Salary': [1000, 2000, 3000]})\n",
        "df['Bonus'] = df['Salary'] * 0.1\n",
        "print(df)\n"
      ],
      "metadata": {
        "id": "dXhhsVBPEavU"
      },
      "execution_count": null,
      "outputs": []
    },
    {
      "cell_type": "markdown",
      "source": [
        "7. Write a program to perform element-wise multiplication of two NumPy arrays\n",
        "\n",
        "import numpy as np\n",
        "\n"
      ],
      "metadata": {
        "id": "_ci6-9bcEb-j"
      }
    },
    {
      "cell_type": "code",
      "source": [
        "a = np.array([1, 2, 3])\n",
        "b = np.array([4, 5, 6])\n",
        "result = a * b\n",
        "print(result)\n",
        "\n"
      ],
      "metadata": {
        "id": "9Lv2UJzAEiNk"
      },
      "execution_count": null,
      "outputs": []
    },
    {
      "cell_type": "markdown",
      "source": [
        "8. Create a line plot with multiple lines using Matplotlib\n",
        "\n",
        "import matplotlib.pyplot as plt\n",
        "\n"
      ],
      "metadata": {
        "id": "tkkbR49YEzMH"
      }
    },
    {
      "cell_type": "code",
      "source": [
        "x = [1, 2, 3, 4]\n",
        "y1 = [1, 4, 9, 16]\n",
        "y2 = [2, 3, 5, 7]\n",
        "\n",
        "plt.plot(x, y1, label='Line 1')\n",
        "plt.plot(x, y2, label='Line 2')\n",
        "plt.legend()\n",
        "plt.title('Multiple Lines')\n",
        "plt.show()\n",
        "\n"
      ],
      "metadata": {
        "id": "HFYadUb1FKJE"
      },
      "execution_count": null,
      "outputs": []
    },
    {
      "cell_type": "markdown",
      "source": [
        "9. Generate a Pandas DataFrame and filter rows where a column value is greater than a threshold\n",
        "\n",
        "import pandas as pd\n",
        "\n"
      ],
      "metadata": {
        "id": "l406SbKrFWZC"
      }
    },
    {
      "cell_type": "code",
      "source": [
        "df = pd.DataFrame({'Age': [20, 30, 40, 25]})\n",
        "filtered = df[df['Age'] > 25]\n",
        "print(filtered)\n"
      ],
      "metadata": {
        "id": "ICpmjpT_FhsY"
      },
      "execution_count": null,
      "outputs": []
    },
    {
      "cell_type": "markdown",
      "source": [
        "10. Create a histogram using Seaborn to visualize a distribution\n",
        "\n",
        "import seaborn as sns\n",
        "import matplotlib.pyplot as plt\n"
      ],
      "metadata": {
        "id": "uRRvOgaaFu1Y"
      }
    },
    {
      "cell_type": "code",
      "source": [
        "data = [1, 2, 2, 3, 3, 3, 4, 4, 4, 4]\n",
        "sns.histplot(data, bins=4, kde=True)\n",
        "plt.show()\n",
        "\n"
      ],
      "metadata": {
        "id": "ZsX3VXwlF156"
      },
      "execution_count": null,
      "outputs": []
    },
    {
      "cell_type": "markdown",
      "source": [
        "11. Perform matrix multiplication using NumPy\n",
        "\n",
        "import numpy as np\n"
      ],
      "metadata": {
        "id": "GPl6GkjaF9gH"
      }
    },
    {
      "cell_type": "code",
      "source": [
        "a = np.array([[1, 2], [3, 4]])\n",
        "b = np.array([[5, 6], [7, 8]])\n",
        "result = np.dot(a, b)\n",
        "print(result)\n"
      ],
      "metadata": {
        "id": "trGBkC9EGHxN"
      },
      "execution_count": null,
      "outputs": []
    },
    {
      "cell_type": "markdown",
      "source": [
        "12. Use Pandas to load a CSV file and display its first 5 rows\n",
        "\n",
        "import pandas as pd\n",
        "\n"
      ],
      "metadata": {
        "id": "cbH7QyQ6GRhr"
      }
    },
    {
      "cell_type": "code",
      "source": [
        "df = pd.read_csv('filename.csv')  # Replace with actual path\n",
        "print(df.head())\n",
        "\n"
      ],
      "metadata": {
        "id": "udmG6PFXGYte"
      },
      "execution_count": null,
      "outputs": []
    },
    {
      "cell_type": "markdown",
      "source": [
        "13. Create a 3D scatter plot using Plotly\n",
        "\n",
        "import plotly.express as px\n",
        "import pandas as pd\n",
        "\n"
      ],
      "metadata": {
        "id": "G9G0eL-LGeRv"
      }
    },
    {
      "cell_type": "code",
      "source": [
        "df = pd.DataFrame({\n",
        "    'x': [1, 2, 3],\n",
        "    'y': [4, 5, 6],\n",
        "    'z': [7, 8, 9]\n",
        "})\n",
        "\n",
        "fig = px.scatter_3d(df, x='x', y='y', z='z', title='3D Scatter Plot')\n",
        "fig.show()"
      ],
      "metadata": {
        "id": "jmUBVXMqGmbd"
      },
      "execution_count": null,
      "outputs": []
    }
  ]
}